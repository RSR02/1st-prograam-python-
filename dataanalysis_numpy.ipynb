{
 "cells": [
  {
   "cell_type": "code",
   "execution_count": 1,
   "metadata": {},
   "outputs": [],
   "source": [
    "import numpy as np"
   ]
  },
  {
   "cell_type": "code",
   "execution_count": 3,
   "metadata": {},
   "outputs": [],
   "source": [
    "data=np.loadtxt(r\"C:\\Users\\rs960\\Downloads\\even_numbers.txt\")"
   ]
  },
  {
   "cell_type": "code",
   "execution_count": 4,
   "metadata": {},
   "outputs": [
    {
     "name": "stdout",
     "output_type": "stream",
     "text": [
      "[[ 2.  4.  6.  8. 10.]\n",
      " [12. 14. 16. 18. 20.]\n",
      " [22. 24. 26. 28. 30.]\n",
      " [32. 34. 36. 38. 40.]\n",
      " [42. 44. 46. 48. 50.]]\n"
     ]
    }
   ],
   "source": [
    "print(data)"
   ]
  },
  {
   "cell_type": "code",
   "execution_count": 7,
   "metadata": {},
   "outputs": [
    {
     "name": "stdout",
     "output_type": "stream",
     "text": [
      "[[14 18]\n",
      " [24 28]\n",
      " [34 38]\n",
      " [44 48]]\n"
     ]
    }
   ],
   "source": [
    "data=np.loadtxt(r\"C:\\Users\\rs960\\Downloads\\even_numbers.txt\",dtype=int,skiprows=1,usecols=(1,3))\n",
    "print(data)"
   ]
  },
  {
   "cell_type": "code",
   "execution_count": 10,
   "metadata": {},
   "outputs": [
    {
     "name": "stdout",
     "output_type": "stream",
     "text": [
      "[[  1.        1.52101  13.64    ...   0.        0.        1.     ]\n",
      " [  2.        1.51761  13.89    ...   0.        0.        1.     ]\n",
      " [  3.        1.51618  13.53    ...   0.        0.        1.     ]\n",
      " ...\n",
      " [212.        1.52065  14.36    ...   1.64      0.        7.     ]\n",
      " [213.        1.51651  14.38    ...   1.57      0.        7.     ]\n",
      " [214.        1.51711  14.23    ...   1.67      0.        7.     ]]\n",
      "(214, 11)\n",
      "float64\n"
     ]
    }
   ],
   "source": [
    "data=np.loadtxt(r\"C:\\Users\\rs960\\Downloads\\glass.csv\",delimiter=',')\n",
    "print(data)\n",
    "print(data.shape)\n",
    "print(data.dtype)"
   ]
  },
  {
   "cell_type": "code",
   "execution_count": 12,
   "metadata": {},
   "outputs": [
    {
     "name": "stdout",
     "output_type": "stream",
     "text": [
      "[[ 1.  3.  5.  7.  9.]\n",
      " [11. 13. 15. 17. 19.]\n",
      " [21. 23. 25. 27. 29.]\n",
      " [31. 33. 35. 37. 39.]\n",
      " [43. 45. 47. 49.  0.]]\n"
     ]
    }
   ],
   "source": [
    "#data cleaning \n",
    "data=np.genfromtxt(r\"C:\\Users\\rs960\\Downloads\\odd_numbers.csv\",delimiter=',',missing_values='?',filling_values=0)\n",
    "print(data)"
   ]
  },
  {
   "cell_type": "code",
   "execution_count": 14,
   "metadata": {},
   "outputs": [
    {
     "name": "stdout",
     "output_type": "stream",
     "text": [
      "[[ 3.  5.  7.  9.]\n",
      " [13. 15. 17. 19.]\n",
      " [23. 25. 27. 29.]\n",
      " [33. 35. 37. 39.]\n",
      " [45. 47. 49.  0.]]\n"
     ]
    }
   ],
   "source": [
    "#array slicing \n",
    "print(data[:,1:])"
   ]
  },
  {
   "cell_type": "code",
   "execution_count": 15,
   "metadata": {},
   "outputs": [
    {
     "name": "stdout",
     "output_type": "stream",
     "text": [
      "[[ 3.  5.  7.]\n",
      " [13. 15. 17.]]\n"
     ]
    }
   ],
   "source": [
    "print(data[0:2,1:4])"
   ]
  },
  {
   "cell_type": "code",
   "execution_count": 21,
   "metadata": {},
   "outputs": [
    {
     "data": {
      "text/plain": [
       "array([[ 1.,  3.,  5.,  7.,  9.],\n",
       "       [11., 13., 15., 17., 19.],\n",
       "       [21., 23., 25., 27., 29.],\n",
       "       [31., 33., 35., 37., 39.],\n",
       "       [43., 45., 47., 49.,  0.]])"
      ]
     },
     "execution_count": 21,
     "metadata": {},
     "output_type": "execute_result"
    }
   ],
   "source": [
    "#array reshape \n",
    "data.reshape(5,5)"
   ]
  },
  {
   "cell_type": "code",
   "execution_count": 22,
   "metadata": {},
   "outputs": [
    {
     "data": {
      "text/plain": [
       "array([[ True,  True,  True, False, False],\n",
       "       [False, False, False, False, False],\n",
       "       [False, False, False, False, False],\n",
       "       [False, False, False, False, False],\n",
       "       [False, False, False, False,  True]])"
      ]
     },
     "execution_count": 22,
     "metadata": {},
     "output_type": "execute_result"
    }
   ],
   "source": [
    "#array masking \n",
    "mask=(data<=5)\n",
    "mask"
   ]
  },
  {
   "cell_type": "code",
   "execution_count": null,
   "metadata": {},
   "outputs": [],
   "source": []
  }
 ],
 "metadata": {
  "kernelspec": {
   "display_name": "Python 3",
   "language": "python",
   "name": "python3"
  },
  "language_info": {
   "codemirror_mode": {
    "name": "ipython",
    "version": 3
   },
   "file_extension": ".py",
   "mimetype": "text/x-python",
   "name": "python",
   "nbconvert_exporter": "python",
   "pygments_lexer": "ipython3",
   "version": "3.6.5"
  }
 },
 "nbformat": 4,
 "nbformat_minor": 2
}
